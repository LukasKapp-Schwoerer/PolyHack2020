{
 "cells": [
  {
   "cell_type": "code",
   "execution_count": 1,
   "metadata": {},
   "outputs": [
    {
     "name": "stdout",
     "output_type": "stream",
     "text": [
      "C:\\Users\\Peter\\GitRepos\\PolyHack2020\n"
     ]
    },
    {
     "ename": "NameError",
     "evalue": "name 'connection_congestion' is not defined",
     "output_type": "error",
     "traceback": [
      "\u001b[1;31m---------------------------------------------------------------------------\u001b[0m",
      "\u001b[1;31mNameError\u001b[0m                                 Traceback (most recent call last)",
      "\u001b[1;32m<ipython-input-1-bf672d11641b>\u001b[0m in \u001b[0;36m<module>\u001b[1;34m\u001b[0m\n\u001b[0;32m      9\u001b[0m \u001b[1;33m\u001b[0m\u001b[0m\n\u001b[0;32m     10\u001b[0m \u001b[0mpoints\u001b[0m \u001b[1;33m=\u001b[0m \u001b[0mdata_extractor\u001b[0m\u001b[1;33m.\u001b[0m\u001b[0mget_operation_points\u001b[0m\u001b[1;33m(\u001b[0m\u001b[1;33m)\u001b[0m\u001b[1;33m\u001b[0m\u001b[1;33m\u001b[0m\u001b[0m\n\u001b[1;32m---> 11\u001b[1;33m \u001b[0mccg\u001b[0m \u001b[1;33m=\u001b[0m \u001b[0mdata_extractor\u001b[0m\u001b[1;33m.\u001b[0m\u001b[0mget_connection_congestions\u001b[0m\u001b[1;33m(\u001b[0m\u001b[1;33m)\u001b[0m\u001b[1;33m\u001b[0m\u001b[1;33m\u001b[0m\u001b[0m\n\u001b[0m\u001b[0;32m     12\u001b[0m \u001b[1;33m\u001b[0m\u001b[0m\n\u001b[0;32m     13\u001b[0m \u001b[0mx_coords\u001b[0m \u001b[1;33m=\u001b[0m \u001b[1;33m[\u001b[0m\u001b[1;33m]\u001b[0m\u001b[1;33m\u001b[0m\u001b[1;33m\u001b[0m\u001b[0m\n",
      "\u001b[1;32m~\\GitRepos\\PolyHack2020\\helper\\data_extraction.py\u001b[0m in \u001b[0;36mget_connection_congestions\u001b[1;34m(self)\u001b[0m\n\u001b[0;32m    202\u001b[0m                             \u001b[0mconnection_congestions\u001b[0m\u001b[1;33m[\u001b[0m\u001b[1;33m(\u001b[0m\u001b[0msmaller_op\u001b[0m\u001b[1;33m,\u001b[0m \u001b[0mgreater_op\u001b[0m\u001b[1;33m)\u001b[0m\u001b[1;33m]\u001b[0m\u001b[1;33m.\u001b[0m\u001b[0mcongestion\u001b[0m\u001b[1;33m.\u001b[0m\u001b[0mincrease_passenger_value\u001b[0m\u001b[1;33m(\u001b[0m\u001b[0mreduction_frac\u001b[0m \u001b[1;33m*\u001b[0m \u001b[0mtrains\u001b[0m\u001b[1;33m)\u001b[0m\u001b[1;33m\u001b[0m\u001b[1;33m\u001b[0m\u001b[0m\n\u001b[0;32m    203\u001b[0m \u001b[1;33m\u001b[0m\u001b[0m\n\u001b[1;32m--> 204\u001b[1;33m         \u001b[1;32mreturn\u001b[0m \u001b[0mlist\u001b[0m\u001b[1;33m(\u001b[0m\u001b[0mconnection_congestion\u001b[0m\u001b[1;33m.\u001b[0m\u001b[0mvalues\u001b[0m\u001b[1;33m(\u001b[0m\u001b[1;33m)\u001b[0m\u001b[1;33m)\u001b[0m\u001b[1;33m\u001b[0m\u001b[1;33m\u001b[0m\u001b[0m\n\u001b[0m",
      "\u001b[1;31mNameError\u001b[0m: name 'connection_congestion' is not defined"
     ]
    }
   ],
   "source": [
    "from viz import mappl\n",
    "from helper.data_extraction import Data_extractor\n",
    "import matplotlib.pyplot as plt\n",
    "import pickle\n",
    "import os\n",
    "\n",
    "data_dir = 'data/'\n",
    "data_extractor = Data_extractor(data_dir)\n",
    "\n",
    "points = data_extractor.get_operation_points()\n",
    "ccg = data_extractor.get_connection_congestions()\n",
    "\n",
    "x_coords = []\n",
    "y_coords = []\n",
    "ids = []\n",
    "incidence_list = {}\n",
    "for point in points.values():\n",
    "    ids.append(point.id_index)\n",
    "    x_coords.append(point.gps[0])\n",
    "    y_coords.append(point.gps[1])\n",
    "    incidence_list[point.id_index] = []\n",
    "\n",
    "    for connection in point.connections_outbound:\n",
    "        incidence_list[point.id_index].append(points[connection.to_op].id_index)\n",
    "        \n",
    "ops = {'ID': ids,\n",
    "      'x': x_coords,\n",
    "      'y': y_coords,\n",
    "      'IL': incidence_list}\n"
   ]
  },
  {
   "cell_type": "code",
   "execution_count": null,
   "metadata": {},
   "outputs": [],
   "source": []
  }
 ],
 "metadata": {
  "kernelspec": {
   "display_name": "Python 3",
   "language": "python",
   "name": "python3"
  }
 },
 "nbformat": 4,
 "nbformat_minor": 2
}
