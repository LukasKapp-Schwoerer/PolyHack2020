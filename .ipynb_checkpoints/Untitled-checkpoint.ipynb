{
 "cells": [
  {
   "cell_type": "code",
   "execution_count": null,
   "metadata": {},
   "outputs": [],
   "source": [
    "from viz import mappl\n",
    "from helper.data_extraction import Data_extractor\n",
    "import matplotlib.pyplot as plt\n",
    "import pickle\n",
    "import os\n",
    "\n",
    "data_dir = 'data/'\n",
    "data_extractor = Data_extractor(data_dir)\n",
    "\n",
    "points = data_extractor.get_operation_points()\n",
    "ccg = data_extractor.get_connection_congestions()\n",
    "\n",
    "x_coords = []\n",
    "y_coords = []\n",
    "ids = []\n",
    "incidence_list = {}\n",
    "for point in points.values():\n",
    "    ids.append(point.id_index)\n",
    "    x_coords.append(point.gps[0])\n",
    "    y_coords.append(point.gps[1])\n",
    "    incidence_list[point.id_index] = []\n",
    "\n",
    "    for connection in point.connections_outbound:\n",
    "        incidence_list[point.id_index].append(points[connection.to_op].id_index)\n",
    "        \n",
    "ops = {'ID': ids,\n",
    "      'x': x_coords,\n",
    "      'y': y_coords,\n",
    "      'IL': incidence_list}\n"
   ]
  }
 ],
 "metadata": {
  "kernelspec": {
   "display_name": "Python 3",
   "language": "python",
   "name": "python3"
  },
  "language_info": {
   "codemirror_mode": {
    "name": "ipython",
    "version": 3
   },
   "file_extension": ".py",
   "mimetype": "text/x-python",
   "name": "python",
   "nbconvert_exporter": "python",
   "pygments_lexer": "ipython3",
   "version": "3.7.1"
  }
 },
 "nbformat": 4,
 "nbformat_minor": 2
}
